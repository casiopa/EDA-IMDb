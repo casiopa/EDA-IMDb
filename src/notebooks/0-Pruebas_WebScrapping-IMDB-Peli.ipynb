{
 "cells": [
  {
   "cell_type": "code",
   "execution_count": 20,
   "id": "284c8488-9821-4a32-849a-773b59c56c7b",
   "metadata": {},
   "outputs": [],
   "source": [
    "import pandas as pd\n",
    "from selenium import webdriver"
   ]
  },
  {
   "cell_type": "code",
   "execution_count": 29,
   "id": "7eac33f2-563e-4acd-8fd9-0e8c3c822579",
   "metadata": {},
   "outputs": [],
   "source": [
    "driver = r'C:\\Users\\casiopa\\chromedriver.exe'\n",
    "options = webdriver.ChromeOptions()\n",
    "#options.add_argument('headless')\n",
    "driver = webdriver.Chrome(executable_path=driver, options=options)"
   ]
  },
  {
   "cell_type": "code",
   "execution_count": 57,
   "id": "a4688994-2d2d-4b1e-813d-cfe8e15cc3a9",
   "metadata": {},
   "outputs": [],
   "source": [
    "#url_title = 'https://www.imdb.com/title/tt10046694/'\n",
    "url_title = 'https://www.imdb.com/title/tt0810836/'\n",
    "#url_title = 'https://www.imdb.com/title/tt3315342'\n",
    "url_title_awards = 'https://www.imdb.com/title/tt7131622/awards/'\n",
    "\n",
    "driver.get(url_title)"
   ]
  },
  {
   "cell_type": "code",
   "execution_count": 55,
   "id": "5bcd3bef-c971-4d79-b8e5-dd40b222ae38",
   "metadata": {},
   "outputs": [
    {
     "data": {
      "text/plain": [
       "['Barunson E&A', 'CJ Entertainment']"
      ]
     },
     "execution_count": 55,
     "metadata": {},
     "output_type": "execute_result"
    }
   ],
   "source": [
    "companies = []\n",
    "\n",
    "for company in driver.find_elements_by_xpath(\"//li[@data-testid='title-details-companies']\")[0].find_element_by_tag_name('div').find_elements_by_tag_name('a'):\n",
    "    companies.append(company.text)\n",
    "    \n",
    "companies"
   ]
  },
  {
   "cell_type": "code",
   "execution_count": 58,
   "id": "1d991ce3-91cf-48c8-b802-ec937d094fac",
   "metadata": {},
   "outputs": [
    {
     "ename": "NoSuchElementException",
     "evalue": "Message: no such element: Unable to locate element: {\"method\":\"xpath\",\"selector\":\"//li[@data-testid=\"title-boxoffice-budget\"]\"}\n  (Session info: chrome=91.0.4472.124)\n",
     "output_type": "error",
     "traceback": [
      "\u001b[1;31m---------------------------------------------------------------------------\u001b[0m",
      "\u001b[1;31mNoSuchElementException\u001b[0m                    Traceback (most recent call last)",
      "\u001b[1;32m<ipython-input-58-22fa0d45d2ed>\u001b[0m in \u001b[0;36m<module>\u001b[1;34m\u001b[0m\n\u001b[1;32m----> 1\u001b[1;33m \u001b[0mbudget\u001b[0m \u001b[1;33m=\u001b[0m \u001b[0mdriver\u001b[0m\u001b[1;33m.\u001b[0m\u001b[0mfind_element_by_xpath\u001b[0m\u001b[1;33m(\u001b[0m\u001b[1;34m'//li[@data-testid=\"title-boxoffice-budget\"]'\u001b[0m\u001b[1;33m)\u001b[0m\u001b[1;33m.\u001b[0m\u001b[0mfind_elements_by_tag_name\u001b[0m\u001b[1;33m(\u001b[0m\u001b[1;34m'span'\u001b[0m\u001b[1;33m)\u001b[0m\u001b[1;33m[\u001b[0m\u001b[1;36m1\u001b[0m\u001b[1;33m]\u001b[0m\u001b[1;33m.\u001b[0m\u001b[0mtext\u001b[0m\u001b[1;33m.\u001b[0m\u001b[0mreplace\u001b[0m\u001b[1;33m(\u001b[0m\u001b[1;34m' (estimated)'\u001b[0m\u001b[1;33m,\u001b[0m \u001b[1;34m''\u001b[0m\u001b[1;33m)\u001b[0m\u001b[1;33m\u001b[0m\u001b[1;33m\u001b[0m\u001b[0m\n\u001b[0m\u001b[0;32m      2\u001b[0m \u001b[0mbudget\u001b[0m\u001b[1;33m\u001b[0m\u001b[1;33m\u001b[0m\u001b[0m\n",
      "\u001b[1;32m~\\anaconda3\\lib\\site-packages\\selenium\\webdriver\\remote\\webdriver.py\u001b[0m in \u001b[0;36mfind_element_by_xpath\u001b[1;34m(self, xpath)\u001b[0m\n\u001b[0;32m    392\u001b[0m             \u001b[0melement\u001b[0m \u001b[1;33m=\u001b[0m \u001b[0mdriver\u001b[0m\u001b[1;33m.\u001b[0m\u001b[0mfind_element_by_xpath\u001b[0m\u001b[1;33m(\u001b[0m\u001b[1;34m'//div/td[1]'\u001b[0m\u001b[1;33m)\u001b[0m\u001b[1;33m\u001b[0m\u001b[1;33m\u001b[0m\u001b[0m\n\u001b[0;32m    393\u001b[0m         \"\"\"\n\u001b[1;32m--> 394\u001b[1;33m         \u001b[1;32mreturn\u001b[0m \u001b[0mself\u001b[0m\u001b[1;33m.\u001b[0m\u001b[0mfind_element\u001b[0m\u001b[1;33m(\u001b[0m\u001b[0mby\u001b[0m\u001b[1;33m=\u001b[0m\u001b[0mBy\u001b[0m\u001b[1;33m.\u001b[0m\u001b[0mXPATH\u001b[0m\u001b[1;33m,\u001b[0m \u001b[0mvalue\u001b[0m\u001b[1;33m=\u001b[0m\u001b[0mxpath\u001b[0m\u001b[1;33m)\u001b[0m\u001b[1;33m\u001b[0m\u001b[1;33m\u001b[0m\u001b[0m\n\u001b[0m\u001b[0;32m    395\u001b[0m \u001b[1;33m\u001b[0m\u001b[0m\n\u001b[0;32m    396\u001b[0m     \u001b[1;32mdef\u001b[0m \u001b[0mfind_elements_by_xpath\u001b[0m\u001b[1;33m(\u001b[0m\u001b[0mself\u001b[0m\u001b[1;33m,\u001b[0m \u001b[0mxpath\u001b[0m\u001b[1;33m)\u001b[0m\u001b[1;33m:\u001b[0m\u001b[1;33m\u001b[0m\u001b[1;33m\u001b[0m\u001b[0m\n",
      "\u001b[1;32m~\\anaconda3\\lib\\site-packages\\selenium\\webdriver\\remote\\webdriver.py\u001b[0m in \u001b[0;36mfind_element\u001b[1;34m(self, by, value)\u001b[0m\n\u001b[0;32m    974\u001b[0m                 \u001b[0mby\u001b[0m \u001b[1;33m=\u001b[0m \u001b[0mBy\u001b[0m\u001b[1;33m.\u001b[0m\u001b[0mCSS_SELECTOR\u001b[0m\u001b[1;33m\u001b[0m\u001b[1;33m\u001b[0m\u001b[0m\n\u001b[0;32m    975\u001b[0m                 \u001b[0mvalue\u001b[0m \u001b[1;33m=\u001b[0m \u001b[1;34m'[name=\"%s\"]'\u001b[0m \u001b[1;33m%\u001b[0m \u001b[0mvalue\u001b[0m\u001b[1;33m\u001b[0m\u001b[1;33m\u001b[0m\u001b[0m\n\u001b[1;32m--> 976\u001b[1;33m         return self.execute(Command.FIND_ELEMENT, {\n\u001b[0m\u001b[0;32m    977\u001b[0m             \u001b[1;34m'using'\u001b[0m\u001b[1;33m:\u001b[0m \u001b[0mby\u001b[0m\u001b[1;33m,\u001b[0m\u001b[1;33m\u001b[0m\u001b[1;33m\u001b[0m\u001b[0m\n\u001b[0;32m    978\u001b[0m             'value': value})['value']\n",
      "\u001b[1;32m~\\anaconda3\\lib\\site-packages\\selenium\\webdriver\\remote\\webdriver.py\u001b[0m in \u001b[0;36mexecute\u001b[1;34m(self, driver_command, params)\u001b[0m\n\u001b[0;32m    319\u001b[0m         \u001b[0mresponse\u001b[0m \u001b[1;33m=\u001b[0m \u001b[0mself\u001b[0m\u001b[1;33m.\u001b[0m\u001b[0mcommand_executor\u001b[0m\u001b[1;33m.\u001b[0m\u001b[0mexecute\u001b[0m\u001b[1;33m(\u001b[0m\u001b[0mdriver_command\u001b[0m\u001b[1;33m,\u001b[0m \u001b[0mparams\u001b[0m\u001b[1;33m)\u001b[0m\u001b[1;33m\u001b[0m\u001b[1;33m\u001b[0m\u001b[0m\n\u001b[0;32m    320\u001b[0m         \u001b[1;32mif\u001b[0m \u001b[0mresponse\u001b[0m\u001b[1;33m:\u001b[0m\u001b[1;33m\u001b[0m\u001b[1;33m\u001b[0m\u001b[0m\n\u001b[1;32m--> 321\u001b[1;33m             \u001b[0mself\u001b[0m\u001b[1;33m.\u001b[0m\u001b[0merror_handler\u001b[0m\u001b[1;33m.\u001b[0m\u001b[0mcheck_response\u001b[0m\u001b[1;33m(\u001b[0m\u001b[0mresponse\u001b[0m\u001b[1;33m)\u001b[0m\u001b[1;33m\u001b[0m\u001b[1;33m\u001b[0m\u001b[0m\n\u001b[0m\u001b[0;32m    322\u001b[0m             response['value'] = self._unwrap_value(\n\u001b[0;32m    323\u001b[0m                 response.get('value', None))\n",
      "\u001b[1;32m~\\anaconda3\\lib\\site-packages\\selenium\\webdriver\\remote\\errorhandler.py\u001b[0m in \u001b[0;36mcheck_response\u001b[1;34m(self, response)\u001b[0m\n\u001b[0;32m    240\u001b[0m                 \u001b[0malert_text\u001b[0m \u001b[1;33m=\u001b[0m \u001b[0mvalue\u001b[0m\u001b[1;33m[\u001b[0m\u001b[1;34m'alert'\u001b[0m\u001b[1;33m]\u001b[0m\u001b[1;33m.\u001b[0m\u001b[0mget\u001b[0m\u001b[1;33m(\u001b[0m\u001b[1;34m'text'\u001b[0m\u001b[1;33m)\u001b[0m\u001b[1;33m\u001b[0m\u001b[1;33m\u001b[0m\u001b[0m\n\u001b[0;32m    241\u001b[0m             \u001b[1;32mraise\u001b[0m \u001b[0mexception_class\u001b[0m\u001b[1;33m(\u001b[0m\u001b[0mmessage\u001b[0m\u001b[1;33m,\u001b[0m \u001b[0mscreen\u001b[0m\u001b[1;33m,\u001b[0m \u001b[0mstacktrace\u001b[0m\u001b[1;33m,\u001b[0m \u001b[0malert_text\u001b[0m\u001b[1;33m)\u001b[0m\u001b[1;33m\u001b[0m\u001b[1;33m\u001b[0m\u001b[0m\n\u001b[1;32m--> 242\u001b[1;33m         \u001b[1;32mraise\u001b[0m \u001b[0mexception_class\u001b[0m\u001b[1;33m(\u001b[0m\u001b[0mmessage\u001b[0m\u001b[1;33m,\u001b[0m \u001b[0mscreen\u001b[0m\u001b[1;33m,\u001b[0m \u001b[0mstacktrace\u001b[0m\u001b[1;33m)\u001b[0m\u001b[1;33m\u001b[0m\u001b[1;33m\u001b[0m\u001b[0m\n\u001b[0m\u001b[0;32m    243\u001b[0m \u001b[1;33m\u001b[0m\u001b[0m\n\u001b[0;32m    244\u001b[0m     \u001b[1;32mdef\u001b[0m \u001b[0m_value_or_default\u001b[0m\u001b[1;33m(\u001b[0m\u001b[0mself\u001b[0m\u001b[1;33m,\u001b[0m \u001b[0mobj\u001b[0m\u001b[1;33m,\u001b[0m \u001b[0mkey\u001b[0m\u001b[1;33m,\u001b[0m \u001b[0mdefault\u001b[0m\u001b[1;33m)\u001b[0m\u001b[1;33m:\u001b[0m\u001b[1;33m\u001b[0m\u001b[1;33m\u001b[0m\u001b[0m\n",
      "\u001b[1;31mNoSuchElementException\u001b[0m: Message: no such element: Unable to locate element: {\"method\":\"xpath\",\"selector\":\"//li[@data-testid=\"title-boxoffice-budget\"]\"}\n  (Session info: chrome=91.0.4472.124)\n"
     ]
    }
   ],
   "source": [
    "budget = driver.find_element_by_xpath('//li[@data-testid=\"title-boxoffice-budget\"]').find_elements_by_tag_name('span')[1].text.replace(' (estimated)', '')\n",
    "budget"
   ]
  },
  {
   "cell_type": "code",
   "execution_count": 52,
   "id": "a6ceb024-5922-4cc1-a0c7-7dd5b1695b5c",
   "metadata": {},
   "outputs": [
    {
     "data": {
      "text/plain": [
       "'$53,369,749'"
      ]
     },
     "execution_count": 52,
     "metadata": {},
     "output_type": "execute_result"
    }
   ],
   "source": [
    "gross_us_canada = driver.find_element_by_xpath('//li[@data-testid=\"title-boxoffice-grossdomestic\"]').find_elements_by_tag_name('span')[1].text\n",
    "gross_us_canada"
   ]
  },
  {
   "cell_type": "code",
   "execution_count": 53,
   "id": "08d248a2-cb35-4c26-9f4b-9d92676cbf06",
   "metadata": {},
   "outputs": [
    {
     "data": {
      "text/plain": [
       "'$393,216'"
      ]
     },
     "execution_count": 53,
     "metadata": {},
     "output_type": "execute_result"
    }
   ],
   "source": [
    "opening_us_canada = driver.find_element_by_xpath('//li[@data-testid=\"title-boxoffice-openingweekenddomestic\"]').find_elements_by_tag_name('span')[1].text\n",
    "opening_us_canada"
   ]
  },
  {
   "cell_type": "code",
   "execution_count": 54,
   "id": "645e33b4-f3f5-4cf1-9313-03e202d1f9a6",
   "metadata": {},
   "outputs": [
    {
     "data": {
      "text/plain": [
       "'$258,908,054'"
      ]
     },
     "execution_count": 54,
     "metadata": {},
     "output_type": "execute_result"
    }
   ],
   "source": [
    "gross_world = driver.find_element_by_xpath('//li[@data-testid=\"title-boxoffice-cumulativeworldwidegross\"]').find_elements_by_tag_name('span')[1].text\n",
    "gross_world"
   ]
  },
  {
   "cell_type": "code",
   "execution_count": 27,
   "id": "66c00f6c-c790-4248-9aab-69db05e132d7",
   "metadata": {
    "tags": []
   },
   "outputs": [
    {
     "name": "stdout",
     "output_type": "stream",
     "text": [
      "CA$3,140,000 (estimated)\n"
     ]
    }
   ],
   "source": [
    "for div in driver.find_elements_by_tag_name('div'):\n",
    "    if div.get_attribute('data-testid') == 'title-boxoffice-section':\n",
    "        box_office = div\n",
    "\n",
    "\n",
    "budget = box_office.find_elements_by_tag_name('li')[1].text\n",
    "\n",
    "# gross_us_canada = box_office.find_elements_by_tag_name('li')[3].text\n",
    "# opening_us_canada =  box_office.find_elements_by_tag_name('li')[5].text\n",
    "# gross_world = box_office.find_elements_by_tag_name('li')[8].text\n",
    "\n",
    "\n",
    "\n",
    "print(budget)\n",
    "#print(gross_us_canada)\n",
    "#print(opening_us_canada)\n",
    "#print(gross_world)"
   ]
  },
  {
   "cell_type": "code",
   "execution_count": 12,
   "id": "faf27d0f-30ca-4deb-b6bd-9ea7788e7f1e",
   "metadata": {},
   "outputs": [
    {
     "name": "stdout",
     "output_type": "stream",
     "text": [
      "['Quentin Tarantino']\n",
      "['Quentin Tarantino']\n",
      "['Leonardo DiCaprio', 'Brad Pitt', 'Margot Robbie']\n"
     ]
    }
   ],
   "source": [
    "principal_credits = driver.find_element_by_class_name('PrincipalCredits__PrincipalCreditsPanelWideScreen-hdn81t-0').find_element_by_tag_name('ul')\n",
    "\n",
    "directors = []\n",
    "elements_directors = principal_credits.find_elements_by_xpath(\"//li[@data-testid='title-pc-principal-credit']\")[0] \\\n",
    "                     .find_element_by_tag_name('div').find_element_by_tag_name('ul').find_elements_by_tag_name('li')\n",
    "\n",
    "for director in elements_directors:\n",
    "    directors.append(director.find_element_by_tag_name('a').text)\n",
    "\n",
    "    \n",
    "writers = []\n",
    "elements_writers = principal_credits.find_elements_by_xpath(\"//li[@data-testid='title-pc-principal-credit']\")[1]  \\\n",
    "                               .find_element_by_tag_name('div').find_element_by_tag_name('ul').find_elements_by_tag_name('li')\n",
    "for writer in elements_writers:\n",
    "    writers.append(writer.find_element_by_tag_name('a').text)\n",
    "    \n",
    "\n",
    "stars = []\n",
    "elements_stars = principal_credits.find_elements_by_xpath(\"//li[@data-testid='title-pc-principal-credit']\")[2]  \\\n",
    "                               .find_element_by_tag_name('div').find_element_by_tag_name('ul').find_elements_by_tag_name('li')\n",
    "for star in elements_stars:\n",
    "    stars.append(star.find_element_by_tag_name('a').text)\n",
    "\n",
    "print(directors)\n",
    "print(writers)\n",
    "print(stars)"
   ]
  },
  {
   "cell_type": "code",
   "execution_count": 13,
   "id": "fdc1c414-1c67-48ac-8fb3-223dae844f90",
   "metadata": {},
   "outputs": [
    {
     "name": "stdout",
     "output_type": "stream",
     "text": [
      "Érase una vez en... Hollywood\n",
      "Once Upon a Time... in Hollywood\n",
      "2019\n",
      "16\n",
      "2h 41min\n",
      "7.6\n",
      "597K\n",
      "83\n"
     ]
    }
   ],
   "source": [
    "title = driver.find_element_by_tag_name('h1').text\n",
    "\n",
    "try:\n",
    "    original_title = driver.find_element_by_class_name('OriginalTitle__OriginalTitleText-jz9bzr-0').text.replace('Original title: ', '')\n",
    "except:\n",
    "    original_title = title\n",
    "    \n",
    "year = driver.find_element_by_class_name('TitleBlock__TitleMetaDataContainer-sc-1nlhx7j-2') \\\n",
    "       .find_element_by_tag_name('ul').find_element_by_tag_name('li').find_element_by_tag_name('a').text\n",
    "certificate = driver.find_element_by_class_name('TitleBlock__TitleMetaDataContainer-sc-1nlhx7j-2') \\\n",
    "              .find_element_by_tag_name('ul').find_elements_by_tag_name('li')[1].find_element_by_tag_name('a').text\n",
    "duration = driver.find_element_by_class_name('TitleBlock__TitleMetaDataContainer-sc-1nlhx7j-2') \\\n",
    "           .find_element_by_tag_name('ul').find_elements_by_tag_name('li')[2].text\n",
    "imdb_rating = driver.find_element_by_class_name('AggregateRatingButton__RatingScore-sc-1ll29m0-1').text\n",
    "imdb_rating_counts = driver.find_element_by_class_name('AggregateRatingButton__TotalRatingAmount-sc-1ll29m0-3').text\n",
    "metascore = driver.find_element_by_class_name('score-meta').text\n",
    "\n",
    "print(title)\n",
    "print(original_title)\n",
    "print(year)\n",
    "print(certificate)\n",
    "print(duration)\n",
    "print(imdb_rating)\n",
    "print(imdb_rating_counts)\n",
    "print(metascore)"
   ]
  },
  {
   "cell_type": "code",
   "execution_count": 104,
   "id": "801574c7-cba4-495f-8586-60ba9b7a7aaf",
   "metadata": {},
   "outputs": [
    {
     "data": {
      "text/plain": [
       "'Won 2 Oscars\\n138 wins & 374 nominations total'"
      ]
     },
     "execution_count": 104,
     "metadata": {},
     "output_type": "execute_result"
    }
   ],
   "source": [
    "driver.find_element_by_class_name('Awards__Content-sc-1qdt65t-2').text"
   ]
  },
  {
   "cell_type": "code",
   "execution_count": 116,
   "id": "5f39745d-7f19-4c38-a542-2b6998559c54",
   "metadata": {},
   "outputs": [
    {
     "data": {
      "text/plain": [
       "'23'"
      ]
     },
     "execution_count": 116,
     "metadata": {},
     "output_type": "execute_result"
    }
   ],
   "source": [
    "driver.find_element_by_class_name('TrendingButton__TrendingScore-bb3vt8-1').text"
   ]
  },
  {
   "cell_type": "code",
   "execution_count": 102,
   "id": "92fa2a1e-9610-47bf-b2f5-ae635d81c607",
   "metadata": {
    "tags": []
   },
   "outputs": [
    {
     "name": "stdout",
     "output_type": "stream",
     "text": [
      "$90,000,000 (estimated)\n",
      "$142,502,728\n",
      "$41,082,018\n",
      "$374,565,754\n",
      "['United States', 'United Kingdom', 'China']\n",
      "['Columbia Pictures', 'Bona Film Group', 'Heyday Films']\n"
     ]
    }
   ],
   "source": [
    "for div in driver.find_elements_by_tag_name('div'):\n",
    "    if div.get_attribute('data-testid') == 'title-boxoffice-section':\n",
    "        box_office = div\n",
    "    elif div.get_attribute('data-testid') == 'title-details-section':\n",
    "        details = div\n",
    "\n",
    "budget = box_office.find_elements_by_tag_name('li')[1].text\n",
    "gross_us_canada = box_office.find_elements_by_tag_name('li')[3].text\n",
    "opening_us_canada =  box_office.find_elements_by_tag_name('li')[5].text\n",
    "gross_world = box_office.find_elements_by_tag_name('li')[8].text\n",
    "\n",
    "\n",
    "countries = []\n",
    "for country in details.find_elements_by_xpath(\"//li[@data-testid='title-details-origin']\")[0].find_elements_by_tag_name('a'):\n",
    "    countries.append(country.text)\n",
    "\n",
    "\n",
    "\n",
    "companies = []\n",
    "for company in details.find_elements_by_xpath(\"//li[@data-testid='title-details-companies']\")[0].find_element_by_tag_name('div').find_elements_by_tag_name('a'):\n",
    "    companies.append(company.text)\n",
    "\n",
    "\n",
    "print(budget)\n",
    "print(gross_us_canada)\n",
    "print(opening_us_canada)\n",
    "print(gross_world)\n",
    "print(countries)\n",
    "print(companies)"
   ]
  },
  {
   "cell_type": "code",
   "execution_count": 101,
   "id": "5ffab1b3-4236-40df-ac11-f58671229666",
   "metadata": {},
   "outputs": [
    {
     "data": {
      "text/plain": [
       "['Columbia Pictures', 'Bona Film Group', 'Heyday Films']"
      ]
     },
     "execution_count": 101,
     "metadata": {},
     "output_type": "execute_result"
    }
   ],
   "source": [
    "companies = []\n",
    "for company in details.find_elements_by_xpath(\"//li[@data-testid='title-details-companies']\")[0].find_element_by_tag_name('div').find_elements_by_tag_name('a'):\n",
    "    companies.append(company.text)\n",
    "companies"
   ]
  },
  {
   "cell_type": "code",
   "execution_count": 4,
   "id": "b074383f-a2b0-4703-a453-ed89606b4a46",
   "metadata": {},
   "outputs": [
    {
     "data": {
      "text/plain": [
       "[]"
      ]
     },
     "execution_count": 4,
     "metadata": {},
     "output_type": "execute_result"
    }
   ],
   "source": [
    "genres = []\n",
    "for elem in driver.find_elements_by_class_name('GenresAndPlot__GenresChipList-cum89p-4'):\n",
    "    for genre in elem.find_elements_by_tag_name('a'):\n",
    "        genres.append(genre.text)\n",
    "genres"
   ]
  },
  {
   "cell_type": "code",
   "execution_count": 19,
   "id": "bccc97d8-8bf1-4a5b-8982-9fb1248948c1",
   "metadata": {},
   "outputs": [
    {
     "data": {
      "text/plain": [
       "['Comedy']"
      ]
     },
     "execution_count": 19,
     "metadata": {},
     "output_type": "execute_result"
    }
   ],
   "source": [
    "try:\n",
    "    genres = []\n",
    "    for elem in driver.find_elements_by_class_name('GenresAndPlot__GenresChipList-cum89p-4'):\n",
    "        for genre in elem.find_elements_by_tag_name('a'):\n",
    "            genres.append(genre.text)\n",
    "except:\n",
    "    genres = 'NaN'\n",
    "      \n",
    "if genres == []:    \n",
    "    try:\n",
    "        genres = []\n",
    "        for elem in driver.find_elements_by_class_name('GenresAndPlot__OffsetChipList-cum89p-5'):\n",
    "            for genre in elem.find_elements_by_tag_name('a'):\n",
    "                genres.append(genre.text)\n",
    "    except:\n",
    "        pass\n",
    "genres"
   ]
  },
  {
   "cell_type": "code",
   "execution_count": 16,
   "id": "2cdb54a6-e531-4038-9f82-5c745a2b8e1c",
   "metadata": {},
   "outputs": [
    {
     "data": {
      "text/plain": [
       "[]"
      ]
     },
     "execution_count": 16,
     "metadata": {},
     "output_type": "execute_result"
    }
   ],
   "source": [
    "try:\n",
    "    genres = []\n",
    "    for elem in driver.find_elements_by_class_name('GenresAndPlot__OffsetChipList-cum89p-5'):\n",
    "        for genre in elem.find_elements_by_tag_name('a'):\n",
    "            genres.append(genre.text)\n",
    "except:\n",
    "    genres = 'NaN'\n",
    "genres"
   ]
  },
  {
   "cell_type": "code",
   "execution_count": 18,
   "id": "9e90d453-7eb2-41da-a03a-a8bfa522e9a2",
   "metadata": {},
   "outputs": [
    {
     "data": {
      "text/plain": [
       "[]"
      ]
     },
     "execution_count": 18,
     "metadata": {},
     "output_type": "execute_result"
    }
   ],
   "source": [
    "genres = []\n",
    "for elem in driver.find_elements_by_class_name('GenresAndPlot__OffsetChipList-cum89p-4'):\n",
    "    for genre in elem.find_elements_by_tag_name('a'):\n",
    "        genres.append(genre.text)\n",
    "genres"
   ]
  },
  {
   "cell_type": "code",
   "execution_count": 108,
   "id": "f09a94df-4628-4fb7-a1b0-32bc6607c381",
   "metadata": {},
   "outputs": [],
   "source": [
    "import pandas as pd\n",
    "from selenium import webdriver\n",
    "\n",
    "\n",
    "def read_imdb_movie(imdb_id):\n",
    "\n",
    "    driver = r'C:\\Users\\casiopa\\chromedriver.exe'\n",
    "    options = webdriver.ChromeOptions()\n",
    "    #options.add_argument('headless')\n",
    "    driver = webdriver.Chrome(executable_path=driver, options=options)\n",
    "\n",
    "\n",
    "    url_title = 'https://www.imdb.com/title/' + str(imdb_id)\n",
    "    driver.get(url_title)\n",
    "\n",
    "    \n",
    "    try:\n",
    "        principal_credits = driver.find_element_by_class_name('PrincipalCredits__PrincipalCreditsPanelWideScreen-hdn81t-0').find_element_by_tag_name('ul')\n",
    "\n",
    "        directors = []\n",
    "        elements_directors = principal_credits.find_elements_by_xpath(\"//li[@data-testid='title-pc-principal-credit']\")[0] \\\n",
    "                            .find_element_by_tag_name('div').find_element_by_tag_name('ul').find_elements_by_tag_name('li')\n",
    "\n",
    "        for director in elements_directors:\n",
    "            directors.append(director.find_element_by_tag_name('a').text)\n",
    "    except:\n",
    "        directors = 'NaN'\n",
    "\n",
    "        \n",
    "    try:    \n",
    "        writers = []\n",
    "        elements_writers = principal_credits.find_elements_by_xpath(\"//li[@data-testid='title-pc-principal-credit']\")[1]  \\\n",
    "                                    .find_element_by_tag_name('div').find_element_by_tag_name('ul').find_elements_by_tag_name('li')\n",
    "        for writer in elements_writers:\n",
    "            writers.append(writer.find_element_by_tag_name('a').text)\n",
    "    except:\n",
    "        writers = 'NaN'\n",
    "\n",
    "        \n",
    "    try:    \n",
    "        stars = []\n",
    "        elements_stars = principal_credits.find_elements_by_xpath(\"//li[@data-testid='title-pc-principal-credit']\")[2]  \\\n",
    "                                    .find_element_by_tag_name('div').find_element_by_tag_name('ul').find_elements_by_tag_name('li')\n",
    "        for star in elements_stars:\n",
    "            stars.append(star.find_element_by_tag_name('a').text)\n",
    "    except:\n",
    "        stars = 'NaN'\n",
    "\n",
    "        \n",
    "    try:\n",
    "        title = driver.find_element_by_tag_name('h1').text\n",
    "    except:\n",
    "        title = 'NaN'\n",
    "        \n",
    "        \n",
    "    try:\n",
    "        original_title = driver.find_element_by_class_name('OriginalTitle__OriginalTitleText-jz9bzr-0').text.replace('Original title: ', '')\n",
    "    except:\n",
    "        original_title = 'NaN'\n",
    "        \n",
    "        \n",
    "    try:    \n",
    "        year = driver.find_element_by_class_name('TitleBlock__TitleMetaDataContainer-sc-1nlhx7j-2') \\\n",
    "            .find_element_by_tag_name('ul').find_element_by_tag_name('li').find_element_by_tag_name('a').text\n",
    "    except:\n",
    "        year = 'NaN'\n",
    "        \n",
    "        \n",
    "    try:    \n",
    "        certificate = driver.find_element_by_class_name('TitleBlock__TitleMetaDataContainer-sc-1nlhx7j-2') \\\n",
    "                    .find_element_by_tag_name('ul').find_elements_by_tag_name('li')[1].find_element_by_tag_name('a').text\n",
    "    except:\n",
    "        certificate = 'NaN'\n",
    "        \n",
    "        \n",
    "    try:    \n",
    "        duration = driver.find_element_by_class_name('TitleBlock__TitleMetaDataContainer-sc-1nlhx7j-2') \\\n",
    "                .find_element_by_tag_name('ul').find_elements_by_tag_name('li')[2].text\n",
    "    except:\n",
    "        duration = 'NaN'\n",
    "        \n",
    "        \n",
    "    try:\n",
    "        imdb_rating = driver.find_element_by_class_name('AggregateRatingButton__RatingScore-sc-1ll29m0-1').text\n",
    "    except:\n",
    "        imdb_rating = 'NaN'\n",
    "        \n",
    "    try:\n",
    "        imdb_rating_counts = driver.find_element_by_class_name('AggregateRatingButton__TotalRatingAmount-sc-1ll29m0-3').text\n",
    "    except:\n",
    "        imdb_rating_counts = 'NaN'\n",
    "        \n",
    "    try:    \n",
    "        metascore = driver.find_element_by_class_name('score-meta').text\n",
    "    except:\n",
    "        metascore = 'NaN'\n",
    "\n",
    "    try:\n",
    "        awards = driver.find_element_by_class_name('Awards__Content-sc-1qdt65t-2').text\n",
    "    except:\n",
    "        awards = 'NaN'\n",
    "\n",
    "    try:\n",
    "        for div in driver.find_elements_by_tag_name('div'):\n",
    "            if div.get_attribute('data-testid') == 'title-boxoffice-section':\n",
    "                box_office = div\n",
    "            elif div.get_attribute('data-testid') == 'title-details-section':\n",
    "                details = div\n",
    "        budget = box_office.find_elements_by_tag_name('li')[1].text\n",
    "    except:\n",
    "        budget = 'NaN'\n",
    "        \n",
    "\n",
    "    try:\n",
    "        countries = []\n",
    "        for country in details.find_elements_by_xpath(\"//li[@data-testid='title-details-origin']\")[0].find_elements_by_tag_name('a'):\n",
    "            countries.append(country.text)\n",
    "    except:\n",
    "        countries = 'NaN'\n",
    "\n",
    "    try:\n",
    "        companies = []\n",
    "        for company in details.find_elements_by_xpath(\"//li[@data-testid='title-details-companies']\")[0].find_element_by_tag_name('div').find_elements_by_tag_name('a'):\n",
    "            companies.append(company.text)\n",
    "    except:\n",
    "        companies = 'NaN'\n",
    "\n",
    "\n",
    "    try:\n",
    "        gross_us_canada = box_office.find_elements_by_tag_name('li')[3].text\n",
    "    except:\n",
    "        gross_us_canada = 'NaN'\n",
    "        \n",
    "    try:    \n",
    "        opening_us_canada = box_office.find_elements_by_tag_name('li')[5].text\n",
    "    except:\n",
    "        opening_us_canada = 'NaN'\n",
    "        \n",
    "    try:    \n",
    "        gross_world = box_office.find_elements_by_tag_name('li')[8].text\n",
    "    except:\n",
    "        gross_world = 'NaN'\n",
    "        \n",
    "        \n",
    "    try:\n",
    "        genres = []\n",
    "        for elem in driver.find_elements_by_class_name('GenresAndPlot__GenresChipList-cum89p-4'):\n",
    "            for genre in elem.find_elements_by_tag_name('a'):\n",
    "                genres.append(genre.text)\n",
    "    except:\n",
    "        genres = 'NaN'\n",
    "\n",
    "    driver.close()\n",
    "    \n",
    "    return {'imdb_id': imdb_id,\n",
    "            'title': title,\n",
    "            'original_title': original_title,\n",
    "            'year': year,\n",
    "            'certificate': certificate,\n",
    "            'duration': duration,\n",
    "            'directors': directors,\n",
    "            'writers': writers,\n",
    "            'stars': stars,\n",
    "            'genres': genres,\n",
    "            'countries': countries,\n",
    "            'companies': companies,\n",
    "            'imdb_rating': imdb_rating,\n",
    "            'metascore': metascore,\n",
    "            'awards': awards,\n",
    "            'budget': budget,\n",
    "            'gross_us_canada': gross_us_canada,\n",
    "            'opening_us_canada': opening_us_canada,\n",
    "            'gross_world': gross_world\n",
    "           }"
   ]
  },
  {
   "cell_type": "code",
   "execution_count": 109,
   "id": "59f76e13-b963-4d68-b6eb-9d350a122049",
   "metadata": {},
   "outputs": [],
   "source": [
    "#movies_ids = ['tt7131622', 'tt0133093', 'tt3315342']\n",
    "movies_ids = ['tt10584916', 'tt15016104', 'tt15023458']  ## as 3 peores películas de 2019\n",
    "\n",
    "movies_df = pd.DataFrame(columns = ['imdb_id', 'title', 'original_title', 'year', 'certificate', 'duration','directors',\n",
    "                                    'writers', 'stars', 'genres', 'countries', 'companies', 'imdb_rating', 'metascore',\n",
    "                                    'awards', 'budget', 'gross_us_canada','opening_us_canada', 'gross_world'])"
   ]
  },
  {
   "cell_type": "code",
   "execution_count": 111,
   "id": "d5e767f6-f6c7-4373-8ace-d54be0ced876",
   "metadata": {},
   "outputs": [],
   "source": [
    "for movie_id in movies_ids:\n",
    "    movie = read_imdb_movie(movie_id)\n",
    "    movies_df = movies_df.append(movie, ignore_index=True)\n",
    "movies_df\n",
    "movies_df.to_csv(\"movies_df.csv\", sep = ';', index = False)"
   ]
  },
  {
   "cell_type": "code",
   "execution_count": 33,
   "id": "bb469706-62d8-4b63-a3c1-9268068904b4",
   "metadata": {},
   "outputs": [
    {
     "data": {
      "text/html": [
       "<div>\n",
       "<style scoped>\n",
       "    .dataframe tbody tr th:only-of-type {\n",
       "        vertical-align: middle;\n",
       "    }\n",
       "\n",
       "    .dataframe tbody tr th {\n",
       "        vertical-align: top;\n",
       "    }\n",
       "\n",
       "    .dataframe thead th {\n",
       "        text-align: right;\n",
       "    }\n",
       "</style>\n",
       "<table border=\"1\" class=\"dataframe\">\n",
       "  <thead>\n",
       "    <tr style=\"text-align: right;\">\n",
       "      <th></th>\n",
       "      <th>title</th>\n",
       "      <th>original_title</th>\n",
       "      <th>year</th>\n",
       "      <th>imdb_id</th>\n",
       "      <th>certificate</th>\n",
       "      <th>duration</th>\n",
       "      <th>directors</th>\n",
       "      <th>writers</th>\n",
       "      <th>stars</th>\n",
       "      <th>genres</th>\n",
       "      <th>imdb_rating</th>\n",
       "      <th>metascore</th>\n",
       "      <th>budget</th>\n",
       "      <th>gross_us_canada</th>\n",
       "      <th>opening_us_canada</th>\n",
       "      <th>gross_world</th>\n",
       "    </tr>\n",
       "  </thead>\n",
       "  <tbody>\n",
       "    <tr>\n",
       "      <th>0</th>\n",
       "      <td>Kult Film</td>\n",
       "      <td>NaN</td>\n",
       "      <td>2019</td>\n",
       "      <td>tt10584916</td>\n",
       "      <td>NaN</td>\n",
       "      <td>NaN</td>\n",
       "      <td>[Olga Bieniek]</td>\n",
       "      <td>[Olga Bieniek, Leszek Gnoinski]</td>\n",
       "      <td>[Kult, Kazik Staszewski]</td>\n",
       "      <td>[Documentary, Biography, Family]</td>\n",
       "      <td>5.6</td>\n",
       "      <td>NaN</td>\n",
       "      <td>NaN</td>\n",
       "      <td>NaN</td>\n",
       "      <td>NaN</td>\n",
       "      <td>NaN</td>\n",
       "    </tr>\n",
       "    <tr>\n",
       "      <th>1</th>\n",
       "      <td>Alcatraz: Escape to the Wiregrass</td>\n",
       "      <td>NaN</td>\n",
       "      <td>2019</td>\n",
       "      <td>tt15016104</td>\n",
       "      <td>NaN</td>\n",
       "      <td>NaN</td>\n",
       "      <td>[Rachael Conrad]</td>\n",
       "      <td>[]</td>\n",
       "      <td>NaN</td>\n",
       "      <td>[]</td>\n",
       "      <td>NaN</td>\n",
       "      <td>NaN</td>\n",
       "      <td>$20,000 (estimated)</td>\n",
       "      <td>NaN</td>\n",
       "      <td>NaN</td>\n",
       "      <td>NaN</td>\n",
       "    </tr>\n",
       "    <tr>\n",
       "      <th>2</th>\n",
       "      <td>Bhoomi</td>\n",
       "      <td>NaN</td>\n",
       "      <td>2019</td>\n",
       "      <td>tt15023458</td>\n",
       "      <td>NaN</td>\n",
       "      <td>NaN</td>\n",
       "      <td>[Kenaz]</td>\n",
       "      <td>[Kenaz]</td>\n",
       "      <td>[Nilofer Haidry]</td>\n",
       "      <td>[]</td>\n",
       "      <td>NaN</td>\n",
       "      <td>NaN</td>\n",
       "      <td>₹400,000 (estimated)</td>\n",
       "      <td>NaN</td>\n",
       "      <td>NaN</td>\n",
       "      <td>NaN</td>\n",
       "    </tr>\n",
       "  </tbody>\n",
       "</table>\n",
       "</div>"
      ],
      "text/plain": [
       "                               title original_title  year     imdb_id  \\\n",
       "0                          Kult Film            NaN  2019  tt10584916   \n",
       "1  Alcatraz: Escape to the Wiregrass            NaN  2019  tt15016104   \n",
       "2                             Bhoomi            NaN  2019  tt15023458   \n",
       "\n",
       "  certificate duration         directors                          writers  \\\n",
       "0         NaN      NaN    [Olga Bieniek]  [Olga Bieniek, Leszek Gnoinski]   \n",
       "1         NaN      NaN  [Rachael Conrad]                               []   \n",
       "2         NaN      NaN           [Kenaz]                          [Kenaz]   \n",
       "\n",
       "                      stars                            genres imdb_rating  \\\n",
       "0  [Kult, Kazik Staszewski]  [Documentary, Biography, Family]         5.6   \n",
       "1                       NaN                                []         NaN   \n",
       "2          [Nilofer Haidry]                                []         NaN   \n",
       "\n",
       "  metascore                budget gross_us_canada opening_us_canada  \\\n",
       "0       NaN                   NaN             NaN               NaN   \n",
       "1       NaN   $20,000 (estimated)             NaN               NaN   \n",
       "2       NaN  ₹400,000 (estimated)             NaN               NaN   \n",
       "\n",
       "  gross_world  \n",
       "0         NaN  \n",
       "1         NaN  \n",
       "2         NaN  "
      ]
     },
     "execution_count": 33,
     "metadata": {},
     "output_type": "execute_result"
    }
   ],
   "source": [
    "for movie_id in movies_ids:\n",
    "    movie = read_imdb_movie(movie_id)\n",
    "    movies_df = movies_df.append(movie, ignore_index=True)\n",
    "movies_df"
   ]
  },
  {
   "cell_type": "code",
   "execution_count": null,
   "id": "f571c1e0-90fb-4977-b642-0eb3c5d6b2b6",
   "metadata": {},
   "outputs": [],
   "source": []
  }
 ],
 "metadata": {
  "interpreter": {
   "hash": "2fbdee16bf0f4d6fd79b600dd4759a245378e871cf1551e15845c608628a6f9c"
  },
  "kernelspec": {
   "display_name": "Python 3",
   "language": "python",
   "name": "python3"
  },
  "language_info": {
   "codemirror_mode": {
    "name": "ipython",
    "version": 3
   },
   "file_extension": ".py",
   "mimetype": "text/x-python",
   "name": "python",
   "nbconvert_exporter": "python",
   "pygments_lexer": "ipython3",
   "version": "3.8.8"
  }
 },
 "nbformat": 4,
 "nbformat_minor": 5
}
