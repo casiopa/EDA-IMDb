{
 "cells": [
  {
   "cell_type": "code",
   "execution_count": 3,
   "id": "44ab0295-1abb-4c6b-bb25-2cca497dd92a",
   "metadata": {},
   "outputs": [],
   "source": [
    "import pandas as pd\n",
    "import numpy as np\n",
    "import json"
   ]
  },
  {
   "cell_type": "code",
   "execution_count": 4,
   "id": "61f72ccf-b93d-46a2-b636-760c731444c0",
   "metadata": {
    "collapsed": true,
    "jupyter": {
     "outputs_hidden": true
    },
    "tags": []
   },
   "outputs": [
    {
     "data": {
      "text/html": [
       "<div>\n",
       "<style scoped>\n",
       "    .dataframe tbody tr th:only-of-type {\n",
       "        vertical-align: middle;\n",
       "    }\n",
       "\n",
       "    .dataframe tbody tr th {\n",
       "        vertical-align: top;\n",
       "    }\n",
       "\n",
       "    .dataframe thead th {\n",
       "        text-align: right;\n",
       "    }\n",
       "</style>\n",
       "<table border=\"1\" class=\"dataframe\">\n",
       "  <thead>\n",
       "    <tr style=\"text-align: right;\">\n",
       "      <th></th>\n",
       "      <th>imdb_id</th>\n",
       "      <th>title</th>\n",
       "      <th>original_title</th>\n",
       "      <th>year</th>\n",
       "      <th>certificate</th>\n",
       "      <th>duration</th>\n",
       "      <th>directors</th>\n",
       "      <th>writers</th>\n",
       "      <th>stars</th>\n",
       "      <th>genres</th>\n",
       "      <th>countries</th>\n",
       "      <th>companies</th>\n",
       "      <th>imdb_rating</th>\n",
       "      <th>metascore</th>\n",
       "      <th>popularity</th>\n",
       "      <th>awards</th>\n",
       "      <th>budget</th>\n",
       "      <th>gross_us_canada</th>\n",
       "      <th>opening_us_canada</th>\n",
       "      <th>gross_world</th>\n",
       "    </tr>\n",
       "  </thead>\n",
       "  <tbody>\n",
       "    <tr>\n",
       "      <th>0</th>\n",
       "      <td>tt0385887</td>\n",
       "      <td>Huérfanos de Brooklyn</td>\n",
       "      <td>Motherless Brooklyn</td>\n",
       "      <td>2019</td>\n",
       "      <td>12</td>\n",
       "      <td>2h 24min</td>\n",
       "      <td>['Edward Norton']</td>\n",
       "      <td>['Edward Norton', 'Jonathan Lethem']</td>\n",
       "      <td>['Edward Norton', 'Gugu Mbatha-Raw', 'Alec Bal...</td>\n",
       "      <td>['Crime', 'Drama', 'Mystery']</td>\n",
       "      <td>['United States']</td>\n",
       "      <td>['Warner Bros. Pictures', 'Class 5 Films', 'MW...</td>\n",
       "      <td>6.8</td>\n",
       "      <td>60.0</td>\n",
       "      <td>1,554</td>\n",
       "      <td>Awards\\n2 wins &amp; 15 nominations</td>\n",
       "      <td>$26,000,000</td>\n",
       "      <td>$9,277,736</td>\n",
       "      <td>$3,500,454</td>\n",
       "      <td>$18,477,736</td>\n",
       "    </tr>\n",
       "    <tr>\n",
       "      <th>1</th>\n",
       "      <td>tt0437086</td>\n",
       "      <td>Alita: Ángel de combate</td>\n",
       "      <td>Alita: Battle Angel</td>\n",
       "      <td>2019</td>\n",
       "      <td>12</td>\n",
       "      <td>2h 2min</td>\n",
       "      <td>['Robert Rodriguez']</td>\n",
       "      <td>['James Cameron', 'Laeta Kalogridis', 'Yukito ...</td>\n",
       "      <td>['Rosa Salazar', 'Christoph Waltz', 'Jennifer ...</td>\n",
       "      <td>['Action', 'Adventure', 'Sci-Fi']</td>\n",
       "      <td>['United States', 'Japan', 'Canada']</td>\n",
       "      <td>['Twentieth Century Fox', 'Lightstorm Entertai...</td>\n",
       "      <td>7.3</td>\n",
       "      <td>53.0</td>\n",
       "      <td>314</td>\n",
       "      <td>Awards\\n10 wins &amp; 24 nominations</td>\n",
       "      <td>$170,000,000</td>\n",
       "      <td>$85,838,210</td>\n",
       "      <td>$28,525,613</td>\n",
       "      <td>$404,980,543</td>\n",
       "    </tr>\n",
       "    <tr>\n",
       "      <th>2</th>\n",
       "      <td>tt0441881</td>\n",
       "      <td>Danger Close: La batalla de Long Tan</td>\n",
       "      <td>Danger Close: The Battle of Long Tan</td>\n",
       "      <td>2019</td>\n",
       "      <td>16</td>\n",
       "      <td>1h 58min</td>\n",
       "      <td>['Kriv Stenders']</td>\n",
       "      <td>['Stuart Beattie', 'James Nicholas', 'Karel Se...</td>\n",
       "      <td>['Travis Fimmel', 'Toby Blome', 'Alexander Eng...</td>\n",
       "      <td>['Action', 'Drama', 'War']</td>\n",
       "      <td>['Australia']</td>\n",
       "      <td>['Deeper Water', 'Hoosegow Productions', 'Inge...</td>\n",
       "      <td>6.8</td>\n",
       "      <td>NaN</td>\n",
       "      <td>4,368</td>\n",
       "      <td>Awards\\n8 wins &amp; 6 nominations</td>\n",
       "      <td>A$24,000,000</td>\n",
       "      <td>NaN</td>\n",
       "      <td>NaN</td>\n",
       "      <td>$2,088,085</td>\n",
       "    </tr>\n",
       "    <tr>\n",
       "      <th>3</th>\n",
       "      <td>tt0448115</td>\n",
       "      <td>¡Shazam!</td>\n",
       "      <td>Shazam!</td>\n",
       "      <td>2019</td>\n",
       "      <td>7</td>\n",
       "      <td>2h 12min</td>\n",
       "      <td>['David F. Sandberg']</td>\n",
       "      <td>['Henry Gayden', 'Darren Lemke', 'Bill Parker']</td>\n",
       "      <td>['Zachary Levi', 'Mark Strong', 'Asher Angel']</td>\n",
       "      <td>['Action', 'Adventure', 'Comedy']</td>\n",
       "      <td>['United States', 'Canada']</td>\n",
       "      <td>['Warner Bros.', 'DC Entertainment', 'DC Comics']</td>\n",
       "      <td>7.0</td>\n",
       "      <td>71.0</td>\n",
       "      <td>306</td>\n",
       "      <td>Awards\\n24 nominations</td>\n",
       "      <td>$100,000,000</td>\n",
       "      <td>$140,371,656</td>\n",
       "      <td>$53,505,326</td>\n",
       "      <td>$365,971,656</td>\n",
       "    </tr>\n",
       "    <tr>\n",
       "      <th>4</th>\n",
       "      <td>tt0783640</td>\n",
       "      <td>Con todos los honores</td>\n",
       "      <td>The Last Full Measure</td>\n",
       "      <td>2019</td>\n",
       "      <td>12</td>\n",
       "      <td>1h 56min</td>\n",
       "      <td>['Todd Robinson']</td>\n",
       "      <td>['Todd Robinson']</td>\n",
       "      <td>['Sebastian Stan', 'Alison Sudol', 'Asher Mile...</td>\n",
       "      <td>['Drama', 'War']</td>\n",
       "      <td>['United States']</td>\n",
       "      <td>['Foresight Unlimited', 'Provocator', 'SSS Ent...</td>\n",
       "      <td>6.8</td>\n",
       "      <td>51.0</td>\n",
       "      <td>2,646</td>\n",
       "      <td>Awards\\n1 nomination</td>\n",
       "      <td>$20,000,000</td>\n",
       "      <td>$2,949,212</td>\n",
       "      <td>$1,058,019</td>\n",
       "      <td>$3,364,426</td>\n",
       "    </tr>\n",
       "  </tbody>\n",
       "</table>\n",
       "</div>"
      ],
      "text/plain": [
       "     imdb_id                                 title  \\\n",
       "0  tt0385887                 Huérfanos de Brooklyn   \n",
       "1  tt0437086               Alita: Ángel de combate   \n",
       "2  tt0441881  Danger Close: La batalla de Long Tan   \n",
       "3  tt0448115                              ¡Shazam!   \n",
       "4  tt0783640                 Con todos los honores   \n",
       "\n",
       "                         original_title  year certificate  duration  \\\n",
       "0                   Motherless Brooklyn  2019          12  2h 24min   \n",
       "1                   Alita: Battle Angel  2019          12   2h 2min   \n",
       "2  Danger Close: The Battle of Long Tan  2019          16  1h 58min   \n",
       "3                               Shazam!  2019           7  2h 12min   \n",
       "4                 The Last Full Measure  2019          12  1h 56min   \n",
       "\n",
       "               directors                                            writers  \\\n",
       "0      ['Edward Norton']               ['Edward Norton', 'Jonathan Lethem']   \n",
       "1   ['Robert Rodriguez']  ['James Cameron', 'Laeta Kalogridis', 'Yukito ...   \n",
       "2      ['Kriv Stenders']  ['Stuart Beattie', 'James Nicholas', 'Karel Se...   \n",
       "3  ['David F. Sandberg']    ['Henry Gayden', 'Darren Lemke', 'Bill Parker']   \n",
       "4      ['Todd Robinson']                                  ['Todd Robinson']   \n",
       "\n",
       "                                               stars  \\\n",
       "0  ['Edward Norton', 'Gugu Mbatha-Raw', 'Alec Bal...   \n",
       "1  ['Rosa Salazar', 'Christoph Waltz', 'Jennifer ...   \n",
       "2  ['Travis Fimmel', 'Toby Blome', 'Alexander Eng...   \n",
       "3     ['Zachary Levi', 'Mark Strong', 'Asher Angel']   \n",
       "4  ['Sebastian Stan', 'Alison Sudol', 'Asher Mile...   \n",
       "\n",
       "                              genres                             countries  \\\n",
       "0      ['Crime', 'Drama', 'Mystery']                     ['United States']   \n",
       "1  ['Action', 'Adventure', 'Sci-Fi']  ['United States', 'Japan', 'Canada']   \n",
       "2         ['Action', 'Drama', 'War']                         ['Australia']   \n",
       "3  ['Action', 'Adventure', 'Comedy']           ['United States', 'Canada']   \n",
       "4                   ['Drama', 'War']                     ['United States']   \n",
       "\n",
       "                                           companies  imdb_rating  metascore  \\\n",
       "0  ['Warner Bros. Pictures', 'Class 5 Films', 'MW...          6.8       60.0   \n",
       "1  ['Twentieth Century Fox', 'Lightstorm Entertai...          7.3       53.0   \n",
       "2  ['Deeper Water', 'Hoosegow Productions', 'Inge...          6.8        NaN   \n",
       "3  ['Warner Bros.', 'DC Entertainment', 'DC Comics']          7.0       71.0   \n",
       "4  ['Foresight Unlimited', 'Provocator', 'SSS Ent...          6.8       51.0   \n",
       "\n",
       "  popularity                            awards        budget gross_us_canada  \\\n",
       "0      1,554   Awards\\n2 wins & 15 nominations   $26,000,000      $9,277,736   \n",
       "1        314  Awards\\n10 wins & 24 nominations  $170,000,000     $85,838,210   \n",
       "2      4,368    Awards\\n8 wins & 6 nominations  A$24,000,000             NaN   \n",
       "3        306            Awards\\n24 nominations  $100,000,000    $140,371,656   \n",
       "4      2,646              Awards\\n1 nomination   $20,000,000      $2,949,212   \n",
       "\n",
       "  opening_us_canada   gross_world  \n",
       "0        $3,500,454   $18,477,736  \n",
       "1       $28,525,613  $404,980,543  \n",
       "2               NaN    $2,088,085  \n",
       "3       $53,505,326  $365,971,656  \n",
       "4        $1,058,019    $3,364,426  "
      ]
     },
     "execution_count": 4,
     "metadata": {},
     "output_type": "execute_result"
    }
   ],
   "source": [
    "movies = pd.read_csv('movies_df_currencies_example.csv', sep=';', na_values=[\"[]\", \"['']\", \"['', '']\", \"['', '', '']\"])\n",
    "movies.head()"
   ]
  },
  {
   "cell_type": "code",
   "execution_count": 5,
   "id": "12ed27a1-cb0e-4683-a0f3-29c0a4ed2f71",
   "metadata": {},
   "outputs": [
    {
     "name": "stdout",
     "output_type": "stream",
     "text": [
      "<class 'pandas.core.frame.DataFrame'>\n",
      "RangeIndex: 189 entries, 0 to 188\n",
      "Data columns (total 20 columns):\n",
      " #   Column             Non-Null Count  Dtype  \n",
      "---  ------             --------------  -----  \n",
      " 0   imdb_id            189 non-null    object \n",
      " 1   title              189 non-null    object \n",
      " 2   original_title     10 non-null     object \n",
      " 3   year               189 non-null    int64  \n",
      " 4   certificate        16 non-null     object \n",
      " 5   duration           15 non-null     object \n",
      " 6   directors          188 non-null    object \n",
      " 7   writers            182 non-null    object \n",
      " 8   stars              139 non-null    object \n",
      " 9   genres             189 non-null    object \n",
      " 10  countries          188 non-null    object \n",
      " 11  companies          155 non-null    object \n",
      " 12  imdb_rating        96 non-null     float64\n",
      " 13  metascore          7 non-null      float64\n",
      " 14  popularity         7 non-null      object \n",
      " 15  awards             42 non-null     object \n",
      " 16  budget             182 non-null    object \n",
      " 17  gross_us_canada    7 non-null      object \n",
      " 18  opening_us_canada  7 non-null      object \n",
      " 19  gross_world        27 non-null     object \n",
      "dtypes: float64(2), int64(1), object(17)\n",
      "memory usage: 29.7+ KB\n"
     ]
    }
   ],
   "source": [
    "movies.info()"
   ]
  },
  {
   "cell_type": "markdown",
   "id": "eb8fc6b9-b2c8-4ea9-9346-3d5f00e2e17b",
   "metadata": {
    "tags": []
   },
   "source": [
    "# Convert to number\n",
    "imdb_rating, metacritic, popularity"
   ]
  },
  {
   "cell_type": "code",
   "execution_count": 216,
   "id": "71c5f5f9-bb21-4d7a-84c1-afbf98a252b4",
   "metadata": {
    "collapsed": true,
    "jupyter": {
     "outputs_hidden": true
    },
    "tags": []
   },
   "outputs": [
    {
     "data": {
      "text/plain": [
       "0      6.8\n",
       "1      7.3\n",
       "2      6.8\n",
       "3      7.0\n",
       "4      6.8\n",
       "      ... \n",
       "184    6.0\n",
       "185    4.1\n",
       "186    7.9\n",
       "187    NaN\n",
       "188    NaN\n",
       "Name: imdb_rating, Length: 189, dtype: float64"
      ]
     },
     "execution_count": 216,
     "metadata": {},
     "output_type": "execute_result"
    }
   ],
   "source": [
    "movies['imdb_rating'].astype(float)"
   ]
  },
  {
   "cell_type": "code",
   "execution_count": 217,
   "id": "735bbe8c-8aee-4d03-9665-117d39ff36dc",
   "metadata": {
    "collapsed": true,
    "jupyter": {
     "outputs_hidden": true
    },
    "tags": []
   },
   "outputs": [
    {
     "data": {
      "text/plain": [
       "0      60.0\n",
       "1      53.0\n",
       "2       NaN\n",
       "3      71.0\n",
       "4      51.0\n",
       "       ... \n",
       "184     NaN\n",
       "185     NaN\n",
       "186     NaN\n",
       "187     NaN\n",
       "188     NaN\n",
       "Name: metascore, Length: 189, dtype: float64"
      ]
     },
     "execution_count": 217,
     "metadata": {},
     "output_type": "execute_result"
    }
   ],
   "source": [
    "movies['metascore'].astype(float)"
   ]
  },
  {
   "cell_type": "code",
   "execution_count": 6,
   "id": "c670c1e6-962a-408f-98ad-695adf839a93",
   "metadata": {},
   "outputs": [
    {
     "data": {
      "text/plain": [
       "0      1,554\n",
       "1        314\n",
       "2      4,368\n",
       "3        306\n",
       "4      2,646\n",
       "       ...  \n",
       "184      NaN\n",
       "185      NaN\n",
       "186      NaN\n",
       "187      NaN\n",
       "188      NaN\n",
       "Name: popularity, Length: 189, dtype: object"
      ]
     },
     "execution_count": 6,
     "metadata": {},
     "output_type": "execute_result"
    }
   ],
   "source": [
    "movies['popularity']"
   ]
  },
  {
   "cell_type": "markdown",
   "id": "2673a548-4e1b-45de-ad56-9774250372ad",
   "metadata": {
    "tags": []
   },
   "source": [
    "# Gross"
   ]
  },
  {
   "cell_type": "code",
   "execution_count": 211,
   "id": "d53e9db6-4ebe-4fc2-9827-d576a7ccb98f",
   "metadata": {},
   "outputs": [],
   "source": [
    "def remove_dolar(amount):\n",
    "    if str(amount) == 'nan':\n",
    "        return np.nan\n",
    "    else:        \n",
    "        return float(amount.replace(',', '')[1:]) "
   ]
  },
  {
   "cell_type": "code",
   "execution_count": 212,
   "id": "4b488401-3989-40d7-800e-3906e7656ac7",
   "metadata": {},
   "outputs": [
    {
     "data": {
      "text/plain": [
       "0       18477736.0\n",
       "1      404980543.0\n",
       "2        2088085.0\n",
       "3      365971656.0\n",
       "4        3364426.0\n",
       "          ...     \n",
       "184       508781.0\n",
       "185            NaN\n",
       "186            NaN\n",
       "187            NaN\n",
       "188            NaN\n",
       "Name: gross_world, Length: 189, dtype: float64"
      ]
     },
     "execution_count": 212,
     "metadata": {},
     "output_type": "execute_result"
    }
   ],
   "source": [
    "movies['gross_world'].apply(remove_dolar)"
   ]
  },
  {
   "cell_type": "code",
   "execution_count": 213,
   "id": "2d7409dc-48c0-42b5-be9d-c022cc8b76fb",
   "metadata": {
    "collapsed": true,
    "jupyter": {
     "outputs_hidden": true
    },
    "tags": []
   },
   "outputs": [
    {
     "data": {
      "text/plain": [
       "0        9277736.0\n",
       "1       85838210.0\n",
       "2              NaN\n",
       "3      140371656.0\n",
       "4        2949212.0\n",
       "          ...     \n",
       "184            NaN\n",
       "185            NaN\n",
       "186            NaN\n",
       "187            NaN\n",
       "188            NaN\n",
       "Name: gross_us_canada, Length: 189, dtype: float64"
      ]
     },
     "execution_count": 213,
     "metadata": {},
     "output_type": "execute_result"
    }
   ],
   "source": [
    "movies['gross_us_canada'].apply(remove_dolar)"
   ]
  },
  {
   "cell_type": "code",
   "execution_count": 214,
   "id": "6afb4699-190b-4cce-9efd-02a6df38f6dc",
   "metadata": {
    "collapsed": true,
    "jupyter": {
     "outputs_hidden": true
    },
    "tags": []
   },
   "outputs": [
    {
     "data": {
      "text/plain": [
       "0       3500454.0\n",
       "1      28525613.0\n",
       "2             NaN\n",
       "3      53505326.0\n",
       "4       1058019.0\n",
       "          ...    \n",
       "184           NaN\n",
       "185           NaN\n",
       "186           NaN\n",
       "187           NaN\n",
       "188           NaN\n",
       "Name: opening_us_canada, Length: 189, dtype: float64"
      ]
     },
     "execution_count": 214,
     "metadata": {},
     "output_type": "execute_result"
    }
   ],
   "source": [
    "movies['opening_us_canada'].apply(remove_dolar)"
   ]
  },
  {
   "cell_type": "markdown",
   "id": "26bb3cc0-37c7-431a-b5be-4efbd45d86d7",
   "metadata": {},
   "source": [
    "# Budget"
   ]
  },
  {
   "cell_type": "code",
   "execution_count": 34,
   "id": "a4d4429b-68df-4f75-9cbf-ad8889a50839",
   "metadata": {},
   "outputs": [],
   "source": [
    "import re\n",
    "\n",
    "def clean_amount_currency(raw_amount):\n",
    "    \n",
    "    if str(raw_amount) == 'nan' :\n",
    "        return (np.nan, np.nan)\n",
    "    \n",
    "    raw_amount = raw_amount.replace(',', '')\n",
    "    \n",
    "    for item in re.finditer(r\"^(\\D+)(\\d+)$\", raw_amount):\n",
    "\n",
    "        currency = item.group(1).strip()\n",
    "        amount = item.group(2)\n",
    "\n",
    "    return(currency, amount)"
   ]
  },
  {
   "cell_type": "code",
   "execution_count": 35,
   "id": "4eaffe71-97b0-468d-a78e-10cb3df55b78",
   "metadata": {
    "tags": []
   },
   "outputs": [
    {
     "data": {
      "text/html": [
       "<div>\n",
       "<style scoped>\n",
       "    .dataframe tbody tr th:only-of-type {\n",
       "        vertical-align: middle;\n",
       "    }\n",
       "\n",
       "    .dataframe tbody tr th {\n",
       "        vertical-align: top;\n",
       "    }\n",
       "\n",
       "    .dataframe thead th {\n",
       "        text-align: right;\n",
       "    }\n",
       "</style>\n",
       "<table border=\"1\" class=\"dataframe\">\n",
       "  <thead>\n",
       "    <tr style=\"text-align: right;\">\n",
       "      <th></th>\n",
       "      <th>title</th>\n",
       "      <th>budget</th>\n",
       "      <th>budgetAmount</th>\n",
       "      <th>budgetCurrency</th>\n",
       "    </tr>\n",
       "  </thead>\n",
       "  <tbody>\n",
       "    <tr>\n",
       "      <th>0</th>\n",
       "      <td>Huérfanos de Brooklyn</td>\n",
       "      <td>$26,000,000</td>\n",
       "      <td>26000000</td>\n",
       "      <td>$</td>\n",
       "    </tr>\n",
       "    <tr>\n",
       "      <th>1</th>\n",
       "      <td>Alita: Ángel de combate</td>\n",
       "      <td>$170,000,000</td>\n",
       "      <td>170000000</td>\n",
       "      <td>$</td>\n",
       "    </tr>\n",
       "    <tr>\n",
       "      <th>2</th>\n",
       "      <td>Danger Close: La batalla de Long Tan</td>\n",
       "      <td>A$24,000,000</td>\n",
       "      <td>24000000</td>\n",
       "      <td>A$</td>\n",
       "    </tr>\n",
       "    <tr>\n",
       "      <th>3</th>\n",
       "      <td>¡Shazam!</td>\n",
       "      <td>$100,000,000</td>\n",
       "      <td>100000000</td>\n",
       "      <td>$</td>\n",
       "    </tr>\n",
       "    <tr>\n",
       "      <th>4</th>\n",
       "      <td>Con todos los honores</td>\n",
       "      <td>$20,000,000</td>\n",
       "      <td>20000000</td>\n",
       "      <td>$</td>\n",
       "    </tr>\n",
       "  </tbody>\n",
       "</table>\n",
       "</div>"
      ],
      "text/plain": [
       "                                  title        budget budgetAmount  \\\n",
       "0                 Huérfanos de Brooklyn   $26,000,000     26000000   \n",
       "1               Alita: Ángel de combate  $170,000,000    170000000   \n",
       "2  Danger Close: La batalla de Long Tan  A$24,000,000     24000000   \n",
       "3                              ¡Shazam!  $100,000,000    100000000   \n",
       "4                 Con todos los honores   $20,000,000     20000000   \n",
       "\n",
       "  budgetCurrency  \n",
       "0              $  \n",
       "1              $  \n",
       "2             A$  \n",
       "3              $  \n",
       "4              $  "
      ]
     },
     "execution_count": 35,
     "metadata": {},
     "output_type": "execute_result"
    }
   ],
   "source": [
    "movies['budgetCurrency'], movies['budgetAmount'] = zip(*movies['budget'].map(clean_amount_currency))\n",
    "movies[['title', 'budget', 'budgetAmount', 'budgetCurrency']].head()"
   ]
  },
  {
   "cell_type": "code",
   "execution_count": 37,
   "id": "617854e6-bd36-4421-89a1-f3a7f23ea7c4",
   "metadata": {},
   "outputs": [
    {
     "data": {
      "text/plain": [
       "array(['$', 'A$', 'ZAR', '₹', 'RUR', '€', 'R$', 'CN¥', 'TRL', 'CA$',\n",
       "       'NPR', '£', '¥', 'HUF', 'HRK', 'NOK', 'MNT', 'CHF', 'MX$', 'UAH',\n",
       "       'HK$', 'PHP', 'PLN', 'EGP', 'IRR', 'NZ$', 'AED', 'DKK', 'NGN',\n",
       "       'SEK', 'BDT', 'MYR', 'CZK', 'ARS', 'GEL', 'PKR', 'NT$', '₪', '₫',\n",
       "       '₩', 'THB', 'RON'], dtype=object)"
      ]
     },
     "execution_count": 37,
     "metadata": {},
     "output_type": "execute_result"
    }
   ],
   "source": [
    "movies['budgetCurrency'].dropna().unique()"
   ]
  },
  {
   "cell_type": "markdown",
   "id": "6f80fe41-612d-4de6-813d-372d23c6442c",
   "metadata": {},
   "source": [
    "# Columns as lists\n",
    "directors, writers, stars, genres, countries, companies"
   ]
  },
  {
   "cell_type": "markdown",
   "id": "168d1944-11db-48d4-841e-39e48e15a020",
   "metadata": {},
   "source": [
    "### Convertir a: comma separated values"
   ]
  },
  {
   "cell_type": "code",
   "execution_count": 193,
   "id": "a61d3e70-a65f-4554-a653-d209bd7d0ad7",
   "metadata": {},
   "outputs": [
    {
     "name": "stderr",
     "output_type": "stream",
     "text": [
      "<ipython-input-193-82e64224ad8a>:1: FutureWarning: The default value of regex will change from True to False in a future version. In addition, single character regular expressions will*not* be treated as literal strings when regex=True.\n",
      "  movies['genres'].str.replace('[', '').str.replace(']', '').str.replace(\"'\", \"\").str.replace(\", \", \",\")\n"
     ]
    },
    {
     "data": {
      "text/plain": [
       "0               Drama\n",
       "1        Action,Crime\n",
       "2               Drama\n",
       "3         Documentary\n",
       "4                 NaN\n",
       "             ...     \n",
       "12775           Drama\n",
       "12776           Drama\n",
       "12777        Thriller\n",
       "12778           Drama\n",
       "12779    Comedy,Drama\n",
       "Name: genres, Length: 12780, dtype: object"
      ]
     },
     "execution_count": 193,
     "metadata": {},
     "output_type": "execute_result"
    }
   ],
   "source": [
    "movies['genres'].str.replace('[', '').str.replace(']', '').str.replace(\"'\", \"\").str.replace(\", \", \",\")"
   ]
  },
  {
   "cell_type": "markdown",
   "id": "a5b0a69c-6df3-4464-a490-d59eb2d5e91a",
   "metadata": {},
   "source": [
    "### Convertir a lista"
   ]
  },
  {
   "cell_type": "code",
   "execution_count": 195,
   "id": "0be2dd84-61fb-4aa5-9858-851488fed74e",
   "metadata": {},
   "outputs": [
    {
     "name": "stderr",
     "output_type": "stream",
     "text": [
      "<ipython-input-195-4d65b4100add>:1: FutureWarning: The default value of regex will change from True to False in a future version. In addition, single character regular expressions will*not* be treated as literal strings when regex=True.\n",
      "  movies['genres'].str.replace('[', '').str.replace(']', '').str.replace(\"'\", \"\").str.replace(\", \", \",\").str.split(',')\n"
     ]
    },
    {
     "data": {
      "text/plain": [
       "0                [Drama]\n",
       "1        [Action, Crime]\n",
       "2                [Drama]\n",
       "3          [Documentary]\n",
       "4                    NaN\n",
       "              ...       \n",
       "12775            [Drama]\n",
       "12776            [Drama]\n",
       "12777         [Thriller]\n",
       "12778            [Drama]\n",
       "12779    [Comedy, Drama]\n",
       "Name: genres, Length: 12780, dtype: object"
      ]
     },
     "execution_count": 195,
     "metadata": {},
     "output_type": "execute_result"
    }
   ],
   "source": [
    "movies['genres'].str.replace('[', '').str.replace(']', '').str.replace(\"'\", \"\").str.replace(\", \", \",\").str.split(',')"
   ]
  },
  {
   "cell_type": "markdown",
   "id": "9a0de13f-bc7a-4814-8699-dfb65f0bfb9a",
   "metadata": {},
   "source": [
    "### Feature engeneering: el primer elemento de una lista"
   ]
  },
  {
   "cell_type": "code",
   "execution_count": 168,
   "id": "7dbc8cfd-20a9-40a1-ba80-d9b473cca301",
   "metadata": {},
   "outputs": [],
   "source": [
    "import ast\n",
    "\n",
    "def first_elem_list(lst):\n",
    "    if str(lst) == 'nan':\n",
    "        return np.nan\n",
    "    else:\n",
    "        return ast.literal_eval(lst)[0]"
   ]
  },
  {
   "cell_type": "code",
   "execution_count": 172,
   "id": "b5ccf789-edc9-43ad-b6bf-c13769998caf",
   "metadata": {
    "tags": []
   },
   "outputs": [
    {
     "data": {
      "text/plain": [
       "0               France\n",
       "1              Germany\n",
       "2        United States\n",
       "3               France\n",
       "4        United States\n",
       "             ...      \n",
       "12775    United States\n",
       "12776    United States\n",
       "12777           Canada\n",
       "12778            India\n",
       "12779           Brazil\n",
       "Name: primaryCountry, Length: 12780, dtype: object"
      ]
     },
     "execution_count": 172,
     "metadata": {},
     "output_type": "execute_result"
    }
   ],
   "source": [
    "# Seleccionar el primer país\n",
    "movies['primaryCountry'] = movies['countries'].apply(first_elem_list)\n",
    "movies['primaryCountry']"
   ]
  }
 ],
 "metadata": {
  "kernelspec": {
   "display_name": "Python 3",
   "language": "python",
   "name": "python3"
  },
  "language_info": {
   "codemirror_mode": {
    "name": "ipython",
    "version": 3
   },
   "file_extension": ".py",
   "mimetype": "text/x-python",
   "name": "python",
   "nbconvert_exporter": "python",
   "pygments_lexer": "ipython3",
   "version": "3.8.8"
  }
 },
 "nbformat": 4,
 "nbformat_minor": 5
}
